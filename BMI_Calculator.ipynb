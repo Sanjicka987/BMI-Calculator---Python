{
  "nbformat": 4,
  "nbformat_minor": 0,
  "metadata": {
    "colab": {
      "provenance": []
    },
    "kernelspec": {
      "name": "python3",
      "display_name": "Python 3"
    },
    "language_info": {
      "name": "python"
    }
  },
  "cells": [
    {
      "cell_type": "code",
      "execution_count": 15,
      "metadata": {
        "colab": {
          "base_uri": "https://localhost:8080/"
        },
        "id": "kFpmm3cjiN8U",
        "outputId": "d14e18a6-47f9-4513-9e55-84cae7b5709b"
      },
      "outputs": [
        {
          "name": "stdout",
          "output_type": "stream",
          "text": [
            "Enter yout weight in kg: 55\n",
            "Enter yout height in m: 1.80\n"
          ]
        }
      ],
      "source": [
        "weight = int(input(\"Enter yout weight in kg: \"))\n",
        "height = float(input(\"Enter yout height in m: \"))"
      ]
    },
    {
      "cell_type": "code",
      "source": [
        "# Calculate BMI\n",
        "bmi = weight / height ** 2\n",
        "\n",
        "if bmi < 18.5:\n",
        "  print(\"Your BMI is {:.2f}, which means your are Underweight. \".format(bmi))\n",
        "elif bmi > 18.5 and bmi <= 24.9:\n",
        "  print(\"Your BMI is {:.2f}, which means your are Normalweight. \".format(bmi))\n",
        "elif bmi >= 25 and bmi <= 29.9:\n",
        "  print(\"Your BMI is {:.2f}, which means your are Overweight. \".format(bmi))\n",
        "elif bmi >= 30 and bmi <= 34.9:\n",
        "  print(\"Your BMI is {:.2f}, which means your are Obese. \".format(bmi))\n",
        "elif bmi >= 35 and bmi <= 39.9:\n",
        "  print(\"Your BMI is {:.2f}, which means your are Severely Obese. \".format(bmi))\n",
        "elif bmi > 40:\n",
        "  print(\"Your BMI is {:.2f}, which means your are Morbidly Obese. \".format(bmi))\n",
        "else:\n",
        "  print(\"Wrong format of input informations\")\n",
        "\n"
      ],
      "metadata": {
        "colab": {
          "base_uri": "https://localhost:8080/"
        },
        "id": "H1e39Jmwifbb",
        "outputId": "bb7b44a1-121a-4890-a2d0-7e03b9a25269"
      },
      "execution_count": 16,
      "outputs": [
        {
          "output_type": "stream",
          "name": "stdout",
          "text": [
            "Your BMI is 16.98, which means your are Underweight. \n"
          ]
        }
      ]
    },
    {
      "cell_type": "code",
      "source": [],
      "metadata": {
        "colab": {
          "base_uri": "https://localhost:8080/"
        },
        "id": "Q2tys_S5l0uN",
        "outputId": "45ff58d7-8180-40e4-dacc-dae9c4209449"
      },
      "execution_count": 10,
      "outputs": [
        {
          "output_type": "stream",
          "name": "stdout",
          "text": [
            "Your BMI is 28.34.\n"
          ]
        }
      ]
    },
    {
      "cell_type": "code",
      "source": [],
      "metadata": {
        "id": "2OYFmNzLntoe"
      },
      "execution_count": null,
      "outputs": []
    }
  ]
}